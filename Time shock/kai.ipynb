#google ColabではPygameのオーディオ環境が使えないのでダメ．
#作者はAnacondaのJupyter Notebookを使用．
#基本的な使い方は，全てのコードを実行すればよい．1度出てきた問題は残りの問題数が12問未満になるまで出てこない．
#cnt_reset()で全ての問題が出力されるようになる．
#問題管理はExcelのシートを用いる．問題を加えて保存すれば自動で出てくるようになる．

#############import関係#############
import matplotlib.pyplot as plt #画像描画
import cv2 #ファイル読み込み
import numpy as np #数式処理
from PIL import Image, ImageDraw, ImageFont #画像出力関係
import time #タイマー処理
from IPython.display import display, clear_output #画像出力関係
import pandas as pd #表データの管理．問題管理に使用
import pygame #出題時のBGM

#############カウントバーの作成#############
#######タイムショックで経過時間をカウントするバーの作成に関するコード
#画像を座標（左上が(0,0)）として，カウントバーの四角形の4隅の座標を出力
#siten：バーの左上の座標． kakudo:バーの回転角度．90や35は今回用いた画像サイズに合わせて微調整した．
def make_sqr(siten,kakudo):
    ten_b = (siten[0]-90*np.sin(np.radians(kakudo)),siten[1]+90*np.cos(np.radians(kakudo)))
    ten_c = (ten_b[0]+35*np.cos(np.radians(kakudo)),ten_b[1]+35*np.sin(np.radians(kakudo)))
    ten_d = (siten[0]+35*np.cos(np.radians(kakudo)), siten[1]+35*np.sin(np.radians(kakudo)))
    sq1 = (siten,ten_b, ten_c, ten_d)
    return sq1

#5秒ごと（=1問ごと）に消灯する，カウントバーを作る用．下のaidaと共に用いる．
def make_sqr2(siten,kakudo):
    ten_b = (siten[0]-90*np.sin(np.radians(kakudo)),siten[1]+90*np.cos(np.radians(kakudo)))
    ten_c = (ten_b[0]+35*np.cos(np.radians(kakudo)),ten_b[1]+35*np.sin(np.radians(kakudo)))
    ten_e = (siten[0]-110*np.sin(np.radians(kakudo)),siten[1]+110*np.cos(np.radians(kakudo)))
    ten_f =  (ten_e[0]+35*np.cos(np.radians(kakudo)),ten_e[1]+35*np.sin(np.radians(kakudo)))
    sq1 = (ten_b,ten_e, ten_f, ten_c)
    return sq1
#make_sqr2はカウントバーの下部に四角を描写するだけ．その四角同士の間を埋めるように四角形を描写
def aida(aka):
    for i in range(len(aka)-1):
        aka += [(aka[i][3],aka[i+1][0],aka[i+1][1],aka[i][2])]
    return aka

#######具体的なバーの位置を作成．midori"数字"で，"数字"は"数字"問目の回答時間に消灯するバーの座標
midori1 = []
aka1 = []
for i in range(5):
    midori1 += [make_sqr((790+50*i,160),0)]
    aka1 += [make_sqr2((790+50*i,160),0)]
aka1 = aida(aka1)

midori2 = []
aka2 = []
for i in range(3):
    midori2 += [make_sqr((1040+50*i,160),0)]
    aka2 += [make_sqr2((1040+50*i,160),0)]
midori2 += [make_sqr((1210,165),15)]
aka2 += [make_sqr2((1210,165),15)]
midori2 += [make_sqr((1285,190),30)]
aka2 += [make_sqr2((1285,190),30)]
aka2 = aida(aka2)

midori3=[]
aka3 = []
midori3 += [make_sqr((1370,280),70)]
aka3 += [make_sqr2((1370,280),70)]
for i in range(4):
    midori3 += [make_sqr((1390,360+i*50),90)]
    aka3 += [make_sqr2((1390,360+i*50),90)]
aka3 = aida(aka3)

midori4=[]
aka4 = []
for i in range(4):
    midori4 += [make_sqr((1390,560+i*50),90)]
    aka4 += [make_sqr2((1390,560+i*50),90)]
midori4 += [make_sqr((1380,790),110)]
aka4 += [make_sqr2((1380,790),110)]
aka4 = aida(aka4)

midori5=[]
aka5 = []
midori5 += [make_sqr((1320,890),150)]
aka5 += [make_sqr2((1320,890),150)]
midori5 += [make_sqr((1255,925),163)]
aka5 += [make_sqr2((1255,925),163)]
for i in range(3):
    midori5 += [make_sqr((1180-50*i,940),180)]
    aka5 += [make_sqr2((1180-50*i,940),180)]
aka5 = aida(aka5)

midori6=[]
aka6 = []
for i in range(5):
    midori6 += [make_sqr((1030-50*i,940),180)]
    aka6 += [make_sqr2((1030-50*i,940),180)]
aka6 = aida(aka6)

midori7=[]
aka7 = []
for i in range(5):
    midori7 += [make_sqr((780-50*i,940),180)]
    aka7 += [make_sqr2((780-50*i,940),180)]
aka7 = aida(aka7)

midori8=[]
aka8 = []
for i in range(3):
    midori8 += [make_sqr((530-50*i,940),180)]
    aka8 += [make_sqr2((530-50*i,940),180)]
midori8 += [make_sqr((350,933),197)]
aka8 += [make_sqr2((350,933),197)]
midori8 += [make_sqr((280,910),210)]
aka8 += [make_sqr2((280,910),210)]
aka8 = aida(aka8)

midori9=[]
aka9 = []
midori9 += [make_sqr((200,820),250)]
aka9 += [make_sqr2((200,820),250)]
for i in range(4):
    midori9 += [make_sqr((180,740-i*50),270)]
    aka9 += [make_sqr2((180,740-i*50),270)]
aka9 = aida(aka9)

midori10=[]
aka10 = []
for i in range(4):
    midori10 += [make_sqr((180,540-i*50),270)]
    aka10 += [make_sqr2((180,540-i*50),270)]
midori10 += [make_sqr((190,310),290)]
aka10 += [make_sqr2((190,310),290)]
aka10=aida(aka10)

midori11=[]
aka11 = []
midori11 += [make_sqr((250,210),330)]
aka11 += [make_sqr2((250,210),330)]
midori11 += [make_sqr((320,175),345)]
aka11 += [make_sqr2((320,175),345)]
for i in range(3):
    midori11 += [make_sqr((390+50*i,160),360)]
    aka11 += [make_sqr2((390+50*i,160),360)]
aka11 = aida(aka11)

midori12 = []
aka12 = []
for i in range(5):
    midori12 += [make_sqr((540+50*i,160),360)]
    aka12 += [make_sqr2((540+50*i,160),360)]
aka12 = aida(aka12)

#以下はもっとスマートに描けるが，実際は数値を微調整する上でこっちの方が便利だったため冗長に．
midori = midori1+midori2+midori3+midori4+midori5+midori6+midori7+midori8+midori9+midori10+midori11+midori12
aka = aka1+aka2+aka3+aka4+aka5+aka6+aka7+aka8+aka9+aka10+aka11+aka12

#############問題出力用コード#############
#同じ問題が連続して出るのを防ぐようになっているが，そのカウントをリセットする
def cnt_reset():
    for i in range(len(df)):
        df.loc[i,"カウント"] = 0

#問題出力用．ジャンルと，必要によってはレベルが指定できる．大会などではジャンルやレベルをラベリングとして活用できる．
def toi(genre,*,lv=None):
    if genre == "ALL":
        data = df
    elif type(genre)==list:
        data = df[df['ジャンル'].isin(genre)]
    else:
        data = df[df['ジャンル'] == genre]
    if data['カウント'].value_counts()[0]<12: 
        #1度出た問題は全て出題されるまで使えない．残りの問題数が12未満ならカウントを0に戻す．
        cnt_reset()
    else:
        #1度出た問題は全て出題されるまで使えないようにする．
        data = data[data['カウント'] != 1]   
    #出題可能な問題をシャッフル
    shuffled_df = data.sample(frac=1).reset_index(drop=True)
    #レベル指定があればそのレベルのみ出題可能にする．
    if lv:
        if type(lv)==list:
            shuffled_df = shuffled_df[shuffled_df['レベル'].isin(lv)]
        else:
            shuffled_df = shuffled_df[shuffled_df['レベル']==lv]
    for i in range(12):
        df.loc[shuffled_df.iloc[i,0],"カウント"]=1
    shuffled_df = shuffled_df.reset_index(drop=True)
    return shuffled_df

#出題時のBGMデータの読み込み
pygame.mixer.init()
mp3_file = "/Users/hoge/timeshock.mp3"
pygame.mixer.music.load(mp3_file)


#############映像出力用コード#############
#背景出力
def make_dis():
    img_pil = Image.open("/Users/hoge/main.png") #背景画像の読み込み
    draw = ImageDraw.Draw(img_pil)　#背景画像の出力
    return img_pil,draw

#カウントバーの描画
def lamp_on():
    for i in range(len(midori)):
        draw[1].polygon(midori[i], outline=(150, 150, 150), fill=(0, 255, 0), width=5)
    for i in range(len(aka)):
        draw[1].polygon(aka[i], outline="red",fill="red", width=5)

#編集された画像の出力
def dis():
    return display(draw[0])

#問題を出力する際の問題文の文字フォントの読み込み．sizeはフォントサイズ
def gothic(size):
    return ImageFont.truetype("/Users/hoge/Library/Group Containers/UBF8T346G9.Office/FontCache/4/CloudFonts/Yu Gothic UI/40231058178.ttf", size=size)

#########ある範囲内に文字が収まるように，自動でフォントサイズを調節する関数をつくっていく
#txtには文字列，fontにはgothic("数値")を入力して，そのtxtが描写された時に，フォントが占める高さと幅を計測する
def get_size(txt, font):
    img2 = Image.new('RGB', (1, 1))  # 1x1の架空キャンバスに描画
    draw2 = ImageDraw.Draw(img2)
    bbox = draw2.textbbox((0, 0), txt, font=font)  # textbboxを使用して描画領域を取得
    width = bbox[2] - bbox[0] #textboxの右座標から左座標を引く
    height = bbox[3] - bbox[1] #textboxの下座標から上座標を引く
    return width, height

#std_wとstd_hに文字を収めたい四角形の幅・高さを入力することで，ちょうどいいフォントサイズを返してくれる．
def good_size(text,std_w,std_h):
    for size in range(10, 70):
        font = gothic(size)
        width,height = get_size(text, font)
        width = width * height /120 #画像サイズに合わせて倍率を割る
        if width >= std_w or height>=std_h: #指定範囲に収まればそのフォントサイズを返す
            return size - 1
    return 70 #文字が大きすぎると見づらいので，最大フォントサイズを指定


###################ゲーム実行用コード##############
#1人プレイ用．最後の1秒で答えが表示される
#genreは文字列またはリスト．lvはintまたはリスト
def time_shock1(genre,*,lv=None):
    quest = toi(genre,lv=lv) #問題を作成
    lamp_on() #カウントバーを表示
    dis() #画像を出力
    if type(genre)==list: #ジャンルを表示
        moji = "複数"
    else:
        moji = genre
    size = good_size(moji,45,100) #ジャンル表示ボックスのサイズに合わせてちょうど良いフォントサイズを取得．
    #文字の出力位置は左上の位置を指定するので，フォントサイズによって出力位置がずれないように，textboxの中心の座標を基準に座標を指定
    width,height = get_size(moji,gothic(size))
    draw[1].text((550-(width/2),520-height/2), moji, font=gothic(size), fill=(0,0,0)) 
    #問題や答えは次の問題・答えのテキストを出力する前に，上部に背景と同色の四角形を重ね描画してテキストを消す．
    #kakusu1は問題表示をする背景，kakusu2は解答表示をする背景の四角形の四隅の座標
    kakusu1 = ((483,670),(1190,670),(1190,770),(483,770))
    kakusu2 = ((940,510),(1190,510),(1190,590),(940,590))
    time.sleep(2) #実行・画像出力から2秒後にゲームスタート
    pygame.mixer.music.play() #BGMスタート．BGMは1秒ごとにチクタク鳴る．
    for i in range(60):
        clear_output(wait=True) #現在描写されている画像の表示を非表示にする．これがないと，画像は下に下に表示される．
        if i%5 == 0: #開始直後から5秒ごとに問題が表示．
            draw[1].polygon(kakusu2, outline=(79,173,234), fill=(79,173,234), width=1)
            draw[1].polygon(kakusu1, outline=(245,194,66), fill=(245,194,66), width=1)
            moji = quest.loc[i//5,"問題"]
            size = good_size(moji,130,100)
            height = get_size(moji,gothic(size))[1]
            draw[1].text((485, 715-height/2), moji, font=gothic(size), fill=(0,0,0))             
        time.sleep(0.883) #カッコ内は次の動作までの待機秒数．時間のカウントは1秒だが，処理時間があるので，1秒だと遅れる．
        draw[1].polygon(midori[i], outline=(150, 150, 150), fill=(150, 150, 150), width=5)
        if i%5 == 4:　#開始から4秒後以降，5秒ごとに解答が表示．
            moji = quest.loc[i//5,"解答"]
            size = good_size(moji,50,100)
            width,height = get_size(moji,gothic(size))
            draw[1].text((1060-(width/2), 530-height/2), moji, font=gothic(size), fill=(0,0,0))
            for j in range(9):
                draw[1].polygon(aka[9*(i//5)+j], outline=(200,200,200),fill=(200,200,200), width=5)
        display(draw[0])
    time.sleep(2)
    display(quest.iloc[:12,0:4])　#復習用に，今回出題された問題と答えが表示される．
    
#2人プレイ用．答えは常に表示される．出題者は問題を読み，解答者は画面を見てはいけない．
#解答表示タイミングが違うだけで基本的には1人プレイ用と同じつくり．
def time_shock2(genre,*,lv=None):
    quest = toi(genre,lv=lv)
    lamp_on()
    dis()
    if type(genre)==list:
        moji = "複数"
    else:
        moji = genre
    size = good_size(moji,45,100)
    width,height = get_size(moji,gothic(size))
    draw[1].text((550-(width/2),520-height/2), moji, font=gothic(size), fill=(0,0,0)) 
    kakusu1 = ((483,670),(1190,670),(1190,770),(483,770))
    kakusu2 = ((940,510),(1190,510),(1190,590),(940,590))
    time.sleep(2)
    pygame.mixer.music.play()
    for i in range(60):
        clear_output(wait=True)
        if i%5 == 0:
            draw[1].polygon(kakusu2, outline=(79,173,234), fill=(79,173,234), width=1)
            draw[1].polygon(kakusu1, outline=(245,194,66), fill=(245,194,66), width=1)
            moji = quest.loc[i//5,"問題"]
            size = good_size(moji,130,100)
            height = get_size(moji,gothic(size))[1]
            draw[1].text((485, 715-height/2), moji, font=gothic(size), fill=(0,0,0))  
            moji = quest.loc[i//5,"解答"]
            size = good_size(moji,25,100)
            width,height = get_size(moji,gothic(size))
            draw[1].text((1060-(width/2), 530-height/2), moji, font=gothic(size), fill=(0,0,0))
        time.sleep(0.881)
        draw[1].polygon(midori[i], outline=(150, 150, 150), fill=(150, 150, 150), width=5)
        if i%5 == 4:
            for j in range(9):
                draw[1].polygon(aka[9*(i//5)+j], outline=(200,200,200),fill=(200,200,200), width=5)
        display(draw[0])
    time.sleep(2)
    display(quest.iloc[:12,0:4])
    


###################ゲーム実行##############
#ゲーム内容に関しては，ルールブックを読んでください．
file_path = '/Users/hoge/mondai.xlsx' #問題があるExcelを読み込み
df = pd.read_excel(file_path) #Excelをpandasに変換
cnt_reset() #問題が入ったデータフレームにカウントの列を追加．

draw = make_dis() #初期画面の読み込み
time_shock1("ALL") #実行次第，ゲームが開始．
#ゲームを中断する場合はInterrupt Kernelを使用してください．ただし，BGMは止まないので，以下を実行して止めてください．
pygame.mixer.music.stop()
