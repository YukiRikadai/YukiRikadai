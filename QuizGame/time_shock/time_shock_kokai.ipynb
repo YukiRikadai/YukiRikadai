{
 "cells": [
  {
   "cell_type": "markdown",
   "id": "0febce14-cc15-4361-96cb-95945ae0497d",
   "metadata": {},
   "source": [
    "# Time Shock風ゲーム"
   ]
  },
  {
   "cell_type": "markdown",
   "id": "68cedee6-14de-49a8-b314-f0b128863539",
   "metadata": {},
   "source": [
    "今回の作品は、テレビ朝日系列で放送されている人気クイズ番組  \n",
    "ザ　タイムショック（The Time Shock）　　\n",
    "をjupyter notebook上で遊ぶために作成します。  \n",
    "\n",
    "クイズや統計には精通していますが、デザインやゲーム作成は素人なので、そこはご容赦ください。"
   ]
  },
  {
   "cell_type": "markdown",
   "id": "a6026749-e2fa-45a6-bd83-7a9d59ca2582",
   "metadata": {},
   "source": [
    "使用については、必ずREADME.mdを読んでください。"
   ]
  },
  {
   "cell_type": "markdown",
   "id": "1651be21-56d2-4ec1-ae81-c21c5cfb75f1",
   "metadata": {},
   "source": [
    "## ライブラリ管理"
   ]
  },
  {
   "cell_type": "code",
   "execution_count": 1,
   "id": "c2ff4c46-52b2-42b4-96dd-af8c2673a14e",
   "metadata": {},
   "outputs": [
    {
     "name": "stdout",
     "output_type": "stream",
     "text": [
      "pygame 2.6.0 (SDL 2.28.4, Python 3.9.19)\n",
      "Hello from the pygame community. https://www.pygame.org/contribute.html\n"
     ]
    }
   ],
   "source": [
    "import matplotlib.pyplot as plt #図形描画用\n",
    "import cv2 #読み込み用\n",
    "import numpy as np #計算用 \n",
    "from PIL import Image, ImageDraw, ImageFont #画像描画用\n",
    "import time #タイマー処理用\n",
    "from IPython.display import display, clear_output #画像出力用\n",
    "import pandas as pd #クイズデータ管理用\n",
    "import pygame #音響用"
   ]
  },
  {
   "cell_type": "markdown",
   "id": "13cc85f0-482c-4722-a2be-b1f86f1f1541",
   "metadata": {},
   "source": [
    "## カウンター作成"
   ]
  },
  {
   "cell_type": "markdown",
   "id": "cddecc67-aad8-402a-b86c-29310f3486e5",
   "metadata": {},
   "source": [
    "時間をカウントするカウンターを作成します。  \n",
    "描画は、画像の左上を原点(0,0)として、右・下を正とした二次元座標で表します。"
   ]
  },
  {
   "cell_type": "code",
   "execution_count": 2,
   "id": "87a93c10",
   "metadata": {},
   "outputs": [],
   "source": [
    "#1秒ごとに消灯する緑カウンターの1個を作る時に用いる。\n",
    "#sitenには四角形の左上の座標、kakudoは四角形の回転角度が入る。\n",
    "#90,35は縦横の長さ。sinとcosで回転時の座標を調節している\n",
    "def make_sqr(siten,kakudo):\n",
    "    ten_b = (siten[0]-90*np.sin(np.radians(kakudo)),siten[1]+90*np.cos(np.radians(kakudo)))\n",
    "    ten_c = (ten_b[0]+35*np.cos(np.radians(kakudo)),ten_b[1]+35*np.sin(np.radians(kakudo)))\n",
    "    ten_d = (siten[0]+35*np.cos(np.radians(kakudo)), siten[1]+35*np.sin(np.radians(kakudo)))\n",
    "    sq1 = (siten,ten_b, ten_c, ten_d)\n",
    "    return sq1"
   ]
  },
  {
   "cell_type": "code",
   "execution_count": 3,
   "id": "6fbde80f",
   "metadata": {},
   "outputs": [],
   "source": [
    "#5秒ごと（1問ごと）に消灯する赤カウンターの1個を作る時に用いる。\n",
    "#sitenには上部にある緑の左上の座標が入る。そこからはみ出す4点の座標を表示する。\n",
    "def make_sqr2(siten,kakudo):\n",
    "    ten_b = (siten[0]-90*np.sin(np.radians(kakudo)),siten[1]+90*np.cos(np.radians(kakudo)))\n",
    "    ten_c = (ten_b[0]+35*np.cos(np.radians(kakudo)),ten_b[1]+35*np.sin(np.radians(kakudo)))\n",
    "    ten_e = (siten[0]-110*np.sin(np.radians(kakudo)),siten[1]+110*np.cos(np.radians(kakudo)))\n",
    "    ten_f =  (ten_e[0]+35*np.cos(np.radians(kakudo)),ten_e[1]+35*np.sin(np.radians(kakudo)))\n",
    "    sq1 = (ten_b,ten_e, ten_f, ten_c)\n",
    "    return sq1"
   ]
  },
  {
   "cell_type": "code",
   "execution_count": 4,
   "id": "05cd24ef",
   "metadata": {},
   "outputs": [],
   "source": [
    "#make_sqr2で作ったはみ出しの赤と赤の間を埋める四角形を作る。\n",
    "def aida(aka):\n",
    "    for i in range(len(aka)-1):\n",
    "        aka += [(aka[i][3],aka[i+1][0],aka[i+1][1],aka[i][2])]\n",
    "    return aka"
   ]
  },
  {
   "cell_type": "markdown",
   "id": "67b98713-3681-4b5f-b9e0-79cfa176a517",
   "metadata": {},
   "source": [
    "## 緑と赤の作成"
   ]
  },
  {
   "cell_type": "code",
   "execution_count": 5,
   "id": "5c35d54c-d8ab-465f-bf60-7f44b0c4ec2f",
   "metadata": {},
   "outputs": [],
   "source": [
    "#1問目で消灯するランプ\n",
    "midori1 = []\n",
    "aka1 = []\n",
    "for i in range(5):\n",
    "    midori1 += [make_sqr((790+50*i,160),0)]\n",
    "    aka1 += [make_sqr2((790+50*i,160),0)]\n",
    "aka1 = aida(aka1)"
   ]
  },
  {
   "cell_type": "code",
   "execution_count": 6,
   "id": "8f0c1628-5eb2-41d0-b836-c5ce77a04a7f",
   "metadata": {},
   "outputs": [],
   "source": [
    "#2問目で消灯するランプ\n",
    "midori2 = []\n",
    "aka2 = []\n",
    "for i in range(3):\n",
    "    midori2 += [make_sqr((1040+50*i,160),0)]\n",
    "    aka2 += [make_sqr2((1040+50*i,160),0)]\n",
    "midori2 += [make_sqr((1210,165),15)]\n",
    "aka2 += [make_sqr2((1210,165),15)]\n",
    "midori2 += [make_sqr((1285,190),30)]\n",
    "aka2 += [make_sqr2((1285,190),30)]\n",
    "aka2 = aida(aka2)"
   ]
  },
  {
   "cell_type": "code",
   "execution_count": 7,
   "id": "76bbf71b-3eff-420d-bbdd-ea6c93bc9a3b",
   "metadata": {},
   "outputs": [],
   "source": [
    "#3問目で消灯するランプ\n",
    "midori3=[]\n",
    "aka3 = []\n",
    "midori3 += [make_sqr((1370,280),70)]\n",
    "aka3 += [make_sqr2((1370,280),70)]\n",
    "for i in range(4):\n",
    "    midori3 += [make_sqr((1390,360+i*50),90)]\n",
    "    aka3 += [make_sqr2((1390,360+i*50),90)]\n",
    "aka3 = aida(aka3)"
   ]
  },
  {
   "cell_type": "code",
   "execution_count": 8,
   "id": "7c903c8d-e2a7-4809-a9f8-90a1dcda25bc",
   "metadata": {},
   "outputs": [],
   "source": [
    "#4問目で消灯するランプ\n",
    "midori4=[]\n",
    "aka4 = []\n",
    "for i in range(4):\n",
    "    midori4 += [make_sqr((1390,560+i*50),90)]\n",
    "    aka4 += [make_sqr2((1390,560+i*50),90)]\n",
    "midori4 += [make_sqr((1380,790),110)]\n",
    "aka4 += [make_sqr2((1380,790),110)]\n",
    "aka4 = aida(aka4)"
   ]
  },
  {
   "cell_type": "code",
   "execution_count": 9,
   "id": "8d6ce152-454b-4031-99d3-cf01c9090b47",
   "metadata": {},
   "outputs": [],
   "source": [
    "#5問目で消灯するランプ\n",
    "midori5=[]\n",
    "aka5 = []\n",
    "midori5 += [make_sqr((1320,890),150)]\n",
    "aka5 += [make_sqr2((1320,890),150)]\n",
    "midori5 += [make_sqr((1255,925),163)]\n",
    "aka5 += [make_sqr2((1255,925),163)]\n",
    "for i in range(3):\n",
    "    midori5 += [make_sqr((1180-50*i,940),180)]\n",
    "    aka5 += [make_sqr2((1180-50*i,940),180)]\n",
    "aka5 = aida(aka5)"
   ]
  },
  {
   "cell_type": "code",
   "execution_count": 10,
   "id": "ff237c47-0c81-4cb1-a55e-e42c62cdcf6c",
   "metadata": {},
   "outputs": [],
   "source": [
    "#6問目で消灯するランプ\n",
    "midori6=[]\n",
    "aka6 = []\n",
    "for i in range(5):\n",
    "    midori6 += [make_sqr((1030-50*i,940),180)]\n",
    "    aka6 += [make_sqr2((1030-50*i,940),180)]\n",
    "aka6 = aida(aka6)"
   ]
  },
  {
   "cell_type": "code",
   "execution_count": 11,
   "id": "e004a258-5a17-4c7e-a21f-832440338980",
   "metadata": {},
   "outputs": [],
   "source": [
    "#7問目で消灯するランプ\n",
    "midori7=[]\n",
    "aka7 = []\n",
    "for i in range(5):\n",
    "    midori7 += [make_sqr((780-50*i,940),180)]\n",
    "    aka7 += [make_sqr2((780-50*i,940),180)]\n",
    "aka7 = aida(aka7)"
   ]
  },
  {
   "cell_type": "code",
   "execution_count": 12,
   "id": "db413eb0-f812-4e0c-8df7-33a1fb64b3e6",
   "metadata": {},
   "outputs": [],
   "source": [
    "#8問目で消灯するランプ\n",
    "midori8=[]\n",
    "aka8 = []\n",
    "for i in range(3):\n",
    "    midori8 += [make_sqr((530-50*i,940),180)]\n",
    "    aka8 += [make_sqr2((530-50*i,940),180)]\n",
    "midori8 += [make_sqr((350,933),197)]\n",
    "aka8 += [make_sqr2((350,933),197)]\n",
    "midori8 += [make_sqr((280,910),210)]\n",
    "aka8 += [make_sqr2((280,910),210)]\n",
    "aka8 = aida(aka8)"
   ]
  },
  {
   "cell_type": "code",
   "execution_count": 13,
   "id": "819119d8-aa46-468a-81c7-12938e79768a",
   "metadata": {},
   "outputs": [],
   "source": [
    "#9問目で消灯するランプ\n",
    "midori9=[]\n",
    "aka9 = []\n",
    "midori9 += [make_sqr((200,820),250)]\n",
    "aka9 += [make_sqr2((200,820),250)]\n",
    "for i in range(4):\n",
    "    midori9 += [make_sqr((180,740-i*50),270)]\n",
    "    aka9 += [make_sqr2((180,740-i*50),270)]\n",
    "aka9 = aida(aka9)"
   ]
  },
  {
   "cell_type": "code",
   "execution_count": 14,
   "id": "e05058e5-75fe-4016-aa26-f84b4bf5bed7",
   "metadata": {},
   "outputs": [],
   "source": [
    "#10問目で消灯するランプ\n",
    "midori10=[]\n",
    "aka10 = []\n",
    "for i in range(4):\n",
    "    midori10 += [make_sqr((180,540-i*50),270)]\n",
    "    aka10 += [make_sqr2((180,540-i*50),270)]\n",
    "midori10 += [make_sqr((190,310),290)]\n",
    "aka10 += [make_sqr2((190,310),290)]\n",
    "aka10=aida(aka10)"
   ]
  },
  {
   "cell_type": "code",
   "execution_count": 15,
   "id": "84a86929-42ad-4188-a42a-ec9eba121d9f",
   "metadata": {},
   "outputs": [],
   "source": [
    "#11問目で消灯するランプ\n",
    "midori11=[]\n",
    "aka11 = []\n",
    "midori11 += [make_sqr((250,210),330)]\n",
    "aka11 += [make_sqr2((250,210),330)]\n",
    "midori11 += [make_sqr((320,175),345)]\n",
    "aka11 += [make_sqr2((320,175),345)]\n",
    "for i in range(3):\n",
    "    midori11 += [make_sqr((390+50*i,160),360)]\n",
    "    aka11 += [make_sqr2((390+50*i,160),360)]\n",
    "aka11 = aida(aka11)"
   ]
  },
  {
   "cell_type": "code",
   "execution_count": 16,
   "id": "825969e4-5a35-44bb-bb16-5a28da12ad36",
   "metadata": {},
   "outputs": [],
   "source": [
    "#12問目で消灯するランプ\n",
    "midori12 = []\n",
    "aka12 = []\n",
    "for i in range(5):\n",
    "    midori12 += [make_sqr((540+50*i,160),360)]\n",
    "    aka12 += [make_sqr2((540+50*i,160),360)]\n",
    "aka12 = aida(aka12)"
   ]
  },
  {
   "cell_type": "code",
   "execution_count": 17,
   "id": "0b96bf8a-2e7a-48e9-8b62-b9b440f7be8c",
   "metadata": {},
   "outputs": [],
   "source": [
    "#全部を統合\n",
    "midori = midori1+midori2+midori3+midori4+midori5+midori6+midori7+midori8+midori9+midori10+midori11+midori12\n",
    "aka = aka1+aka2+aka3+aka4+aka5+aka6+aka7+aka8+aka9+aka10+aka11+aka12"
   ]
  },
  {
   "cell_type": "markdown",
   "id": "e9e14956-dec9-4b16-9fd8-805aed62f530",
   "metadata": {},
   "source": [
    "## 問題文表示に関する管理"
   ]
  },
  {
   "cell_type": "markdown",
   "id": "c1a75b2b-4957-43fc-8174-308ab4f6f677",
   "metadata": {},
   "source": [
    "問題文はExcelで作成し、Pythonではpandasで管理する。\n",
    "問題文の表示においては、何度もやることを考えて、すべての問題が出るまで同じ問題が出ないように作成。"
   ]
  },
  {
   "cell_type": "code",
   "execution_count": 18,
   "id": "be24503f-0eab-4181-8c75-69b51a854004",
   "metadata": {},
   "outputs": [],
   "source": [
    "#問題の出題フラッグ。これが 0 なら出題される可能性があり、1なら出題されない\n",
    "def cnt_reset():\n",
    "    for i in range(len(df)):\n",
    "        df.loc[i,\"カウント\"] = 0"
   ]
  },
  {
   "cell_type": "code",
   "execution_count": 19,
   "id": "c425ac42-35e4-46b4-98f9-b354a9188200",
   "metadata": {},
   "outputs": [],
   "source": [
    "#指定したジャンル（レベルも追加可）の問題を選択して並び替える関数\n",
    "#genreには問題ジャンル、lv=\"数値\"のかたちでレベルを入力する。\n",
    "#genreは必須だが、*を使うことでlvはなくても良い。\n",
    "def toi(genre,*,lv=None):\n",
    "    #全ての問題から指定したジャンルの問題をdataに代入する。\n",
    "    if genre == \"ALL\":\n",
    "        #genre=\"ALL\"の時はすべての問題が出題範囲になる。\n",
    "        data = df\n",
    "    elif type(genre)==list:\n",
    "        #genreがリスト指定の場合は、リスト内のすべてのジャンルの問題が出題される。\n",
    "        data = df[df['ジャンル'].isin(genre)]\n",
    "    else:\n",
    "        data = df[df['ジャンル'] == genre]\n",
    "    if lv: #lvの指定があったときだけ使用\n",
    "        if type(lv)==list:\n",
    "            data = data[data['レベル'].isin(lv)]\n",
    "        else:\n",
    "            data = data[data['レベル']==lv]\n",
    "    #残り問題数が12問以下になった場合はカウントをリセットして、全問が出題可能性\n",
    "    if (data['カウント'] == 0).sum()<12:\n",
    "        cnt_reset()\n",
    "    else: #残り問題数に余裕がある時は、カウントが0の問題だけに絞る\n",
    "        data = data[data[\"カウント\"] == 0]\n",
    "    #問題をシャッフルして、ナンバリングし直す\n",
    "    shuffled_df = data.sample(frac=1).reset_index(drop=True)\n",
    "    #出題されることになる12問のカウントを1に設定。0列目には行数が入っている。\n",
    "    for i in range(12):\n",
    "        df.loc[shuffled_df.iloc[i,0],\"カウント\"] = 1\n",
    "    return shuffled_df"
   ]
  },
  {
   "cell_type": "code",
   "execution_count": 20,
   "id": "35764d7f-205e-4530-9f6a-8de6d467940a",
   "metadata": {},
   "outputs": [],
   "source": [
    "#音響の読み込み\n",
    "pygame.mixer.init()\n",
    "#チクタク音の音楽ファイルのパスを読み込み\n",
    "mp3_file = \"hoge/timeshock.mp3\"\n",
    "pygame.mixer.music.load(mp3_file)"
   ]
  },
  {
   "cell_type": "markdown",
   "id": "ef25eafd-fc53-472a-ab09-78004ee57a04",
   "metadata": {},
   "source": [
    "## 全体表示関連の管理"
   ]
  },
  {
   "cell_type": "code",
   "execution_count": 21,
   "id": "a9e30eed-98b1-4b31-9a99-e5ef5437fb44",
   "metadata": {},
   "outputs": [],
   "source": [
    "#背景を作成する。\n",
    "def make_dis():\n",
    "    #背景画像の読み込み\n",
    "    img_pil = Image.open(\"hoge/main.png\")\n",
    "    #画像の編集用\n",
    "    draw = ImageDraw.Draw(img_pil)\n",
    "    return img_pil,draw"
   ]
  },
  {
   "cell_type": "code",
   "execution_count": 22,
   "id": "d432b4ec-70b0-4b68-914f-c1c031b62654",
   "metadata": {},
   "outputs": [],
   "source": [
    "#指定した座標をpolygonでカウンターバーを出力\n",
    "def lamp_on():\n",
    "    for i in range(len(midori)):\n",
    "        draw[1].polygon(midori[i], outline=(150, 150, 150), fill=(0, 255, 0), width=5)\n",
    "    for i in range(len(aka)):\n",
    "        draw[1].polygon(aka[i], outline=\"red\",fill=\"red\", width=5)"
   ]
  },
  {
   "cell_type": "code",
   "execution_count": 23,
   "id": "10591b66-5e19-42d4-b819-598d1702a1d6",
   "metadata": {},
   "outputs": [],
   "source": [
    "#背景を出力\n",
    "def dis():\n",
    "    return display(draw[0])"
   ]
  },
  {
   "cell_type": "markdown",
   "id": "456505ff-6afe-4228-a844-59e42f83e3f6",
   "metadata": {},
   "source": [
    "## 実際に動かすための管理"
   ]
  },
  {
   "cell_type": "code",
   "execution_count": 31,
   "id": "29450e15-92fa-48fe-8b4e-623c4678843e",
   "metadata": {},
   "outputs": [],
   "source": [
    "#問題文に用いる文字を管理\n",
    "def gothic(size):\n",
    "    # \"\"には游ゴシックのパスを指定して入れる\n",
    "    return ImageFont.truetype(\"hoge/Yu Gothic UI/40231058178.ttf\", size=size)"
   ]
  },
  {
   "cell_type": "code",
   "execution_count": 25,
   "id": "8e08a4c4-c1ec-4455-b324-9fcde9514765",
   "metadata": {},
   "outputs": [],
   "source": [
    "#指定した文字が実際に占有する幅と高さを返す\n",
    "def get_size(txt, font):\n",
    "    img2 = Image.new('RGB', (1, 1))  # 1x1のキャンバスを作成\n",
    "    draw2 = ImageDraw.Draw(img2)\n",
    "    bbox = draw2.textbbox((0, 0), txt, font=font)  # textbboxを使用して描画領域を取得\n",
    "    width = bbox[2] - bbox[0]\n",
    "    height = bbox[3] - bbox[1]\n",
    "    return width, height"
   ]
  },
  {
   "cell_type": "code",
   "execution_count": 26,
   "id": "45f56c06-772e-4c0e-9fb7-ba32c990e7ab",
   "metadata": {},
   "outputs": [],
   "source": [
    "#文字、幅の最大値、高さの最大値を設定することで、その長方形に入る適切なフォントサイズを返す\n",
    "#大きすぎると見辛いので、最大でも70になるようになっている。\n",
    "def good_size(text,std_w,std_h):\n",
    "    #最小値10で70までサイズを増やす\n",
    "    for size in range(10, 70):\n",
    "        font = gothic(size)\n",
    "        #フォントサイズがsizeの時に占有する高さと幅を記録\n",
    "        width,height = get_size(text, font)\n",
    "        # /120は仮想空間での大きさと出力空間での大きさのスケール統一\n",
    "        width = width * height /120\n",
    "        #幅か高さが指定より超えていた場合は、一つ前のフォントサイズを提案\n",
    "        if width >= std_w or height>=std_h:\n",
    "            return size - 1\n",
    "    return 70"
   ]
  },
  {
   "cell_type": "code",
   "execution_count": 27,
   "id": "747dbe36-3478-4dfe-9f93-d7f67d47b787",
   "metadata": {},
   "outputs": [],
   "source": [
    "#ゲームをするたびに実行するコード\n",
    "def time_shock1(genre,*,lv=None):\n",
    "    #問題文を取得\n",
    "    quest = toi(genre,lv=lv)\n",
    "    #カウンターバーを描画\n",
    "    lamp_on()\n",
    "    #完成した画像を出力\n",
    "    dis()\n",
    "    #ジャンルの指定によって、「ジャンル」欄に記載する内容を変更\n",
    "    if type(genre)==list:\n",
    "        moji = \"複数\"\n",
    "    else:\n",
    "        moji = genre\n",
    "    #ジャンル欄に記入するためのフォントサイズ指定\n",
    "    size = good_size(moji,45,100)\n",
    "    width,height = get_size(moji,gothic(size))\n",
    "    #テキストの箇所指定は左上を指定するようになっているが、中央座標を揃えたいので、\n",
    "    #幅と高さの値を活用して座標を指定\n",
    "    draw[1].text((550-(width/2),520-height/2), moji, font=gothic(size), fill=(0,0,0)) \n",
    "    #問題文はテキストの真上に背景と同じ長方形を描画することで、解き終わった問題文を消す（隠す）\n",
    "    #これは隠す時に使う問題文表示欄の四角の座標\n",
    "    kakusu1 = ((483,670),(1190,670),(1190,770),(483,770))\n",
    "    #同じ方法で、解答欄の文字を消す\n",
    "    kakusu2 = ((940,510),(1190,510),(1190,590),(940,590))\n",
    "    #実行から出題までに2秒与えて、画面調整などをする時間をユーザーに与えておく\n",
    "    time.sleep(2)\n",
    "    #BGMがスタート\n",
    "    pygame.mixer.music.play()\n",
    "    #毎秒起こす実行内容\n",
    "    for i in range(60):\n",
    "        #1秒ごとに画面を消してから、出力する。そうすることで動画のように見える\n",
    "        clear_output(wait=True)\n",
    "        #問題出題のタイミングで行う動作\n",
    "        if i%5 == 0:\n",
    "            #問題欄と解答欄の上に、背景と同色の四角形を置いて、前の問題・答えを隠す\n",
    "            draw[1].polygon(kakusu2, outline=(79,173,234), fill=(79,173,234), width=1)\n",
    "            draw[1].polygon(kakusu1, outline=(245,194,66), fill=(245,194,66), width=1)\n",
    "            #出題する問題文を読み込み\n",
    "            moji = quest.loc[i//5,\"問題\"]\n",
    "            #問題文の文字サイズ指定\n",
    "            size = good_size(moji,130,100)\n",
    "            height = get_size(moji,gothic(size))[1]\n",
    "            #左詰なので、左端の座標は固定。上下座標のみフォントサイズで変化\n",
    "            draw[1].text((485, 715-height/2), moji, font=gothic(size), fill=(0,0,0)) \n",
    "        #次の実行を行うまでに待機する時間を指定。\n",
    "        #本来は1秒ごとに実行したいが、実際には処理のラグがあるため、1秒より短い時間で設定。\n",
    "        #背景音のチクタクは1秒なので、それに合わせて動くように、試しながら設定する。\n",
    "        time.sleep(0.883)\n",
    "        #残り時間表示バー（緑）を消灯させる\n",
    "        draw[1].polygon(midori[i], outline=(150, 150, 150), fill=(150, 150, 150), width=5)\n",
    "        #問題ごとの最後の1秒で行う処理\n",
    "        if i%5 == 4:\n",
    "            #解答の単語を読み込み\n",
    "            moji = quest.loc[i//5,\"解答\"]\n",
    "            size = good_size(moji,50,100)\n",
    "            width,height = get_size(moji,gothic(size))\n",
    "            #解答欄は中央揃えなので、幅と高さを用いて座標指定\n",
    "            draw[1].text((1060-(width/2), 530-height/2), moji, font=gothic(size), fill=(0,0,0))\n",
    "            #残り時間表示バー（赤）を消灯させる。赤は9個で1問分\n",
    "            for j in range(9):\n",
    "                draw[1].polygon(aka[9*(i//5)+j], outline=(200,200,200),fill=(200,200,200), width=5)\n",
    "        #編集した画像データを出力する\n",
    "        display(draw[0])\n",
    "    time.sleep(2)\n",
    "    #出題された問題の復習用に表を出力\n",
    "    display(quest.iloc[:12,0:4])\n",
    "    "
   ]
  },
  {
   "cell_type": "markdown",
   "id": "ab961807-2507-4d89-ab7a-0cdd0053edbb",
   "metadata": {},
   "source": [
    "## 説明書"
   ]
  },
  {
   "cell_type": "markdown",
   "id": "6c87805b-0a94-418f-bfc7-cf9cc2c5a8ee",
   "metadata": {},
   "source": [
    "### 使い方"
   ]
  },
  {
   "cell_type": "markdown",
   "id": "c330effc-9931-4daa-9e84-19f0d2be65e6",
   "metadata": {},
   "source": [
    "入力部に  \n",
    "ーーーーーーーーー   \n",
    "draw = make_dis()  \n",
    "time_shock1(\"ジャンル名\")  \n",
    "ーーーーーーーーー  \n",
    "と入力してください。\n",
    "\n",
    "ジャンル一覧は下の項目にあります。"
   ]
  },
  {
   "cell_type": "markdown",
   "id": "26ada825-6835-4532-8b59-86bf2f5ca4ce",
   "metadata": {},
   "source": [
    "また、   \n",
    "ーーーーーーーーー   \n",
    "draw = make_dis()  \n",
    "time_shock1(\"ジャンル名\",lv=レベルの数字)  \n",
    "ーーーーーーーーー  \n",
    "を入力することで、該当レベルの問題が表示されます。作者の独断ですが、以下のイメージです。  \n",
    "1. ほとんどの人が知ってる・考えればわかる\n",
    "2. 半数くらいの人は知ってる\n",
    "3. 詳しい人なら知っている\n",
    "4. 高難度\n",
    "\n",
    "基本的には、そんなに難しい問題は作っていないつもりですが、作者がクイ研出身のため、ガッツリクイズな問題もたくさんあります。"
   ]
  },
  {
   "cell_type": "markdown",
   "id": "e978f72a-ac63-480d-91b7-18e6368702a6",
   "metadata": {},
   "source": [
    "「Shiftキー を押しながら Enterキー」でプログラムが実行されます。  \n",
    "実行されると2秒後にBGMと共にゲームが始まります。  \n",
    "問題は指定ジャンルから毎回ランダムに12問が選ばれます。  \n",
    "1度選ばれた問題は、問題不足にならない限り、出てこなくなります。  \n",
    "ゲーム終了の2秒後、画面下部に今回出てきた問題の一覧が表示されます。"
   ]
  },
  {
   "cell_type": "markdown",
   "id": "aadd4fa5-aab4-4429-b75e-8eb3330f14cd",
   "metadata": {},
   "source": [
    "### 利用時の注意点"
   ]
  },
  {
   "cell_type": "markdown",
   "id": "68d66ebf-d300-4830-b981-76290410db31",
   "metadata": {},
   "source": [
    "* ゲームを途中で終了する場合は Kernel→Interrupt Kernel で止めてください．  \n",
    "この時、音声が止まらないので，以下のプログラムを実行してください。  \n",
    "pygame.mixer.music.stop()\n",
    "* 問題を編集した場合は問題読み込みプログラム  \n",
    "    file_path = 'クイズ編集エクセルのパス名'  \n",
    "    df = pd.read_excel(file_path)  \n",
    "を実行してください。\n",
    "* 実行後に画面が勝手にスクロールする際は、下部に空の入力セルを大量に作ってください。"
   ]
  },
  {
   "cell_type": "markdown",
   "id": "d6d5c7a3-f9dd-4b27-a539-c4ad209ce794",
   "metadata": {},
   "source": [
    "### ジャンル一覧"
   ]
  },
  {
   "cell_type": "markdown",
   "id": "b7203441-11a1-48b4-a4a3-f6ba2dc7d0b4",
   "metadata": {},
   "source": [
    "【ジャンル一覧（mondai）】  \n",
    "* ALL（全ての問題が出てきます）\n",
    "* 択一\n",
    "* トラベル\n",
    "* アラカルト\n",
    "* ブラック\n",
    "* 国語\n",
    "* ナンバー"
   ]
  },
  {
   "cell_type": "code",
   "execution_count": 32,
   "id": "37253e24-d63c-4464-b80e-d174acd8cd5d",
   "metadata": {},
   "outputs": [],
   "source": [
    "file_path = 'hoge/mondai.xlsx'\n",
    "df = pd.read_excel(file_path)\n",
    "cnt_reset()"
   ]
  },
  {
   "cell_type": "code",
   "execution_count": 36,
   "id": "6a1dcc86-fe9a-4f46-80e1-c802e004b0f4",
   "metadata": {},
   "outputs": [],
   "source": [
    "#このセルを実行するとゲームが始まります。\n",
    "draw = make_dis() \n",
    "time_shock1(\"ALL\",lv=1)"
   ]
  },
  {
   "cell_type": "code",
   "execution_count": 34,
   "id": "200482bb-aa69-4d13-bae3-8af694fc2234",
   "metadata": {},
   "outputs": [],
   "source": [
    "#ゲーム中断時はこれを実行すればBGMが停止します\n",
    "pygame.mixer.music.stop()"
   ]
  },
  {
   "cell_type": "code",
   "execution_count": 35,
   "id": "8a033fe2-fb68-41c2-a07e-3bf8194d4729",
   "metadata": {},
   "outputs": [],
   "source": [
    "#何らかの理由で、出題回数をリセットしたい場合はこれを実行してください\n",
    "cnt_reset()"
   ]
  },
  {
   "cell_type": "code",
   "execution_count": null,
   "id": "5437107c-1c7d-43eb-901a-dc6475760349",
   "metadata": {},
   "outputs": [],
   "source": []
  },
  {
   "cell_type": "code",
   "execution_count": null,
   "id": "e314f736-cbe1-45ed-8883-b608f56bd375",
   "metadata": {},
   "outputs": [],
   "source": []
  },
  {
   "cell_type": "code",
   "execution_count": null,
   "id": "bb4ce9ca-2e6a-48ac-9170-c575694770fb",
   "metadata": {},
   "outputs": [],
   "source": []
  },
  {
   "cell_type": "code",
   "execution_count": null,
   "id": "f4fef73c-082f-4068-8825-97c6de23cbb1",
   "metadata": {},
   "outputs": [],
   "source": []
  },
  {
   "cell_type": "code",
   "execution_count": null,
   "id": "a117057f-382d-4c6b-a11d-a623f947ef6b",
   "metadata": {},
   "outputs": [],
   "source": []
  },
  {
   "cell_type": "code",
   "execution_count": null,
   "id": "4686d52a-7bd1-4e5b-8a43-d78f89e4a5b4",
   "metadata": {},
   "outputs": [],
   "source": []
  },
  {
   "cell_type": "code",
   "execution_count": null,
   "id": "034a922e-3858-4b56-8603-918548648c94",
   "metadata": {},
   "outputs": [],
   "source": []
  },
  {
   "cell_type": "code",
   "execution_count": null,
   "id": "073520d6-3647-4b2d-b552-27c5bb74a82b",
   "metadata": {},
   "outputs": [],
   "source": []
  },
  {
   "cell_type": "code",
   "execution_count": null,
   "id": "8904c693-8133-4deb-9244-2fe905db355e",
   "metadata": {},
   "outputs": [],
   "source": []
  },
  {
   "cell_type": "code",
   "execution_count": null,
   "id": "28f20f19-0304-4d63-a5f4-0d431a0ef6c2",
   "metadata": {},
   "outputs": [],
   "source": []
  },
  {
   "cell_type": "code",
   "execution_count": null,
   "id": "5d136950-062d-4b8c-83f7-6fdb81b6f1cf",
   "metadata": {},
   "outputs": [],
   "source": []
  },
  {
   "cell_type": "code",
   "execution_count": null,
   "id": "620d2ed4-cdcf-42ea-ae4f-eda0ef686484",
   "metadata": {},
   "outputs": [],
   "source": []
  },
  {
   "cell_type": "code",
   "execution_count": null,
   "id": "093af6ae-4f5e-4c5e-b6af-3ab746adc912",
   "metadata": {},
   "outputs": [],
   "source": []
  },
  {
   "cell_type": "code",
   "execution_count": null,
   "id": "1c1a901c-7f09-4784-ba13-d88766e32fc2",
   "metadata": {},
   "outputs": [],
   "source": []
  },
  {
   "cell_type": "code",
   "execution_count": null,
   "id": "f2839159-e943-4ea8-8047-a39a72c8cef0",
   "metadata": {},
   "outputs": [],
   "source": []
  }
 ],
 "metadata": {
  "kernelspec": {
   "display_name": "Python 3 (ipykernel)",
   "language": "python",
   "name": "python3"
  },
  "language_info": {
   "codemirror_mode": {
    "name": "ipython",
    "version": 3
   },
   "file_extension": ".py",
   "mimetype": "text/x-python",
   "name": "python",
   "nbconvert_exporter": "python",
   "pygments_lexer": "ipython3",
   "version": "3.9.19"
  }
 },
 "nbformat": 4,
 "nbformat_minor": 5
}
